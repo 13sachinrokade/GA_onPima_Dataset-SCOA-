{
  "nbformat": 4,
  "nbformat_minor": 0,
  "metadata": {
    "colab": {
      "name": "SCOA_MINI_PROJECT.ipynb",
      "provenance": [],
      "collapsed_sections": []
    },
    "kernelspec": {
      "display_name": "Python 3",
      "name": "python3"
    }
  },
  "cells": [
    {
      "cell_type": "code",
      "metadata": {
        "id": "Z0ZhedY2IhK8"
      },
      "source": [
        "import numpy as np\n",
        "import pandas as pd\n",
        "import random\n"
      ],
      "execution_count": null,
      "outputs": []
    },
    {
      "cell_type": "code",
      "metadata": {
        "id": "6qzSZhWWI2lb"
      },
      "source": [
        "\n",
        "from sklearn.model_selection import train_test_split\n",
        "from sklearn.linear_model import LogisticRegression\n",
        "from sklearn.metrics import accuracy_score"
      ],
      "execution_count": null,
      "outputs": []
    },
    {
      "cell_type": "code",
      "metadata": {
        "colab": {
          "base_uri": "https://localhost:8080/",
          "height": 224
        },
        "id": "OBpirVR9POd0",
        "outputId": "3b1d0c89-c2a6-415f-9b1b-ed11f080c1cf"
      },
      "source": [
        "from google.colab import drive\n",
        "drive.mount('/content/drive',force_remount=True)\n",
        "data = pd.read_csv('/content/drive/My Drive/pima.csv',sep=',' , header = 0)\n",
        "\n",
        "attributes = [\"pregnancies\", \"glucose\", \"blood pressure\", \"skin thickness\", \"insulin\",\"BMI\",\"Diabetes\",\"age\",\"output\"]\n",
        "data.columns = attributes\n",
        "data.head()"
      ],
      "execution_count": null,
      "outputs": [
        {
          "output_type": "stream",
          "text": [
            "Mounted at /content/drive\n"
          ],
          "name": "stdout"
        },
        {
          "output_type": "execute_result",
          "data": {
            "text/html": [
              "<div>\n",
              "<style scoped>\n",
              "    .dataframe tbody tr th:only-of-type {\n",
              "        vertical-align: middle;\n",
              "    }\n",
              "\n",
              "    .dataframe tbody tr th {\n",
              "        vertical-align: top;\n",
              "    }\n",
              "\n",
              "    .dataframe thead th {\n",
              "        text-align: right;\n",
              "    }\n",
              "</style>\n",
              "<table border=\"1\" class=\"dataframe\">\n",
              "  <thead>\n",
              "    <tr style=\"text-align: right;\">\n",
              "      <th></th>\n",
              "      <th>pregnancies</th>\n",
              "      <th>glucose</th>\n",
              "      <th>blood pressure</th>\n",
              "      <th>skin thickness</th>\n",
              "      <th>insulin</th>\n",
              "      <th>BMI</th>\n",
              "      <th>Diabetes</th>\n",
              "      <th>age</th>\n",
              "      <th>output</th>\n",
              "    </tr>\n",
              "  </thead>\n",
              "  <tbody>\n",
              "    <tr>\n",
              "      <th>0</th>\n",
              "      <td>1</td>\n",
              "      <td>85</td>\n",
              "      <td>66</td>\n",
              "      <td>29</td>\n",
              "      <td>0</td>\n",
              "      <td>26.6</td>\n",
              "      <td>0.351</td>\n",
              "      <td>31</td>\n",
              "      <td>0</td>\n",
              "    </tr>\n",
              "    <tr>\n",
              "      <th>1</th>\n",
              "      <td>8</td>\n",
              "      <td>183</td>\n",
              "      <td>64</td>\n",
              "      <td>0</td>\n",
              "      <td>0</td>\n",
              "      <td>23.3</td>\n",
              "      <td>0.672</td>\n",
              "      <td>32</td>\n",
              "      <td>1</td>\n",
              "    </tr>\n",
              "    <tr>\n",
              "      <th>2</th>\n",
              "      <td>1</td>\n",
              "      <td>89</td>\n",
              "      <td>66</td>\n",
              "      <td>23</td>\n",
              "      <td>94</td>\n",
              "      <td>28.1</td>\n",
              "      <td>0.167</td>\n",
              "      <td>21</td>\n",
              "      <td>0</td>\n",
              "    </tr>\n",
              "    <tr>\n",
              "      <th>3</th>\n",
              "      <td>0</td>\n",
              "      <td>137</td>\n",
              "      <td>40</td>\n",
              "      <td>35</td>\n",
              "      <td>168</td>\n",
              "      <td>43.1</td>\n",
              "      <td>2.288</td>\n",
              "      <td>33</td>\n",
              "      <td>1</td>\n",
              "    </tr>\n",
              "    <tr>\n",
              "      <th>4</th>\n",
              "      <td>5</td>\n",
              "      <td>116</td>\n",
              "      <td>74</td>\n",
              "      <td>0</td>\n",
              "      <td>0</td>\n",
              "      <td>25.6</td>\n",
              "      <td>0.201</td>\n",
              "      <td>30</td>\n",
              "      <td>0</td>\n",
              "    </tr>\n",
              "  </tbody>\n",
              "</table>\n",
              "</div>"
            ],
            "text/plain": [
              "   pregnancies  glucose  blood pressure  ...  Diabetes  age  output\n",
              "0            1       85              66  ...     0.351   31       0\n",
              "1            8      183              64  ...     0.672   32       1\n",
              "2            1       89              66  ...     0.167   21       0\n",
              "3            0      137              40  ...     2.288   33       1\n",
              "4            5      116              74  ...     0.201   30       0\n",
              "\n",
              "[5 rows x 9 columns]"
            ]
          },
          "metadata": {
            "tags": []
          },
          "execution_count": 3
        }
      ]
    },
    {
      "cell_type": "code",
      "metadata": {
        "id": "7GKMrSfEI6sw"
      },
      "source": [
        "df = data.iloc[:, 0:8]\n",
        "label=data.iloc[:, 8]"
      ],
      "execution_count": null,
      "outputs": []
    },
    {
      "cell_type": "code",
      "metadata": {
        "colab": {
          "base_uri": "https://localhost:8080/"
        },
        "id": "qHuzTEQdPh7z",
        "outputId": "19795d2b-43c8-4274-af60-54fffa42a3c2"
      },
      "source": [
        "print(df.head())"
      ],
      "execution_count": null,
      "outputs": [
        {
          "output_type": "stream",
          "text": [
            "   pregnancies  glucose  blood pressure  ...   BMI  Diabetes  age\n",
            "0            1       85              66  ...  26.6     0.351   31\n",
            "1            8      183              64  ...  23.3     0.672   32\n",
            "2            1       89              66  ...  28.1     0.167   21\n",
            "3            0      137              40  ...  43.1     2.288   33\n",
            "4            5      116              74  ...  25.6     0.201   30\n",
            "\n",
            "[5 rows x 8 columns]\n"
          ],
          "name": "stdout"
        }
      ]
    },
    {
      "cell_type": "code",
      "metadata": {
        "id": "8aKgcEl5E569"
      },
      "source": [
        "import matplotlib.pyplot as plt"
      ],
      "execution_count": null,
      "outputs": []
    },
    {
      "cell_type": "code",
      "metadata": {
        "id": "zSGsYwxA_T1Q"
      },
      "source": [
        "from sklearn.preprocessing import StandardScaler\n",
        "scaler_x=StandardScaler()\n",
        "X=scaler_x.fit_transform(df)\n",
        "df = pd.DataFrame(X, columns = [\"pregnancies\", \"glucose\", \"blood pressure\", \"skin thickness\", \"insulin\",\"BMI\",\"Diabetes\",\"age\"])\n"
      ],
      "execution_count": null,
      "outputs": []
    },
    {
      "cell_type": "code",
      "metadata": {
        "colab": {
          "base_uri": "https://localhost:8080/",
          "height": 206
        },
        "id": "sAp9hLGIG8ic",
        "outputId": "c13c79ea-a063-4da2-9069-04ac847fca65"
      },
      "source": [
        "df.head()"
      ],
      "execution_count": null,
      "outputs": [
        {
          "output_type": "execute_result",
          "data": {
            "text/html": [
              "<div>\n",
              "<style scoped>\n",
              "    .dataframe tbody tr th:only-of-type {\n",
              "        vertical-align: middle;\n",
              "    }\n",
              "\n",
              "    .dataframe tbody tr th {\n",
              "        vertical-align: top;\n",
              "    }\n",
              "\n",
              "    .dataframe thead th {\n",
              "        text-align: right;\n",
              "    }\n",
              "</style>\n",
              "<table border=\"1\" class=\"dataframe\">\n",
              "  <thead>\n",
              "    <tr style=\"text-align: right;\">\n",
              "      <th></th>\n",
              "      <th>pregnancies</th>\n",
              "      <th>glucose</th>\n",
              "      <th>blood pressure</th>\n",
              "      <th>skin thickness</th>\n",
              "      <th>insulin</th>\n",
              "      <th>BMI</th>\n",
              "      <th>Diabetes</th>\n",
              "      <th>age</th>\n",
              "    </tr>\n",
              "  </thead>\n",
              "  <tbody>\n",
              "    <tr>\n",
              "      <th>0</th>\n",
              "      <td>-0.843726</td>\n",
              "      <td>-1.122086</td>\n",
              "      <td>-0.160249</td>\n",
              "      <td>0.532023</td>\n",
              "      <td>-0.693559</td>\n",
              "      <td>-0.683729</td>\n",
              "      <td>-0.364265</td>\n",
              "      <td>-0.188940</td>\n",
              "    </tr>\n",
              "    <tr>\n",
              "      <th>1</th>\n",
              "      <td>1.234240</td>\n",
              "      <td>1.944476</td>\n",
              "      <td>-0.263578</td>\n",
              "      <td>-1.286882</td>\n",
              "      <td>-0.693559</td>\n",
              "      <td>-1.102301</td>\n",
              "      <td>0.604701</td>\n",
              "      <td>-0.103795</td>\n",
              "    </tr>\n",
              "    <tr>\n",
              "      <th>2</th>\n",
              "      <td>-0.843726</td>\n",
              "      <td>-0.996920</td>\n",
              "      <td>-0.160249</td>\n",
              "      <td>0.155698</td>\n",
              "      <td>0.122357</td>\n",
              "      <td>-0.493469</td>\n",
              "      <td>-0.919684</td>\n",
              "      <td>-1.040393</td>\n",
              "    </tr>\n",
              "    <tr>\n",
              "      <th>3</th>\n",
              "      <td>-1.140579</td>\n",
              "      <td>0.505069</td>\n",
              "      <td>-1.503534</td>\n",
              "      <td>0.908349</td>\n",
              "      <td>0.764674</td>\n",
              "      <td>1.409132</td>\n",
              "      <td>5.482732</td>\n",
              "      <td>-0.018650</td>\n",
              "    </tr>\n",
              "    <tr>\n",
              "      <th>4</th>\n",
              "      <td>0.343683</td>\n",
              "      <td>-0.152051</td>\n",
              "      <td>0.253070</td>\n",
              "      <td>-1.286882</td>\n",
              "      <td>-0.693559</td>\n",
              "      <td>-0.810569</td>\n",
              "      <td>-0.817052</td>\n",
              "      <td>-0.274086</td>\n",
              "    </tr>\n",
              "  </tbody>\n",
              "</table>\n",
              "</div>"
            ],
            "text/plain": [
              "   pregnancies   glucose  blood pressure  ...       BMI  Diabetes       age\n",
              "0    -0.843726 -1.122086       -0.160249  ... -0.683729 -0.364265 -0.188940\n",
              "1     1.234240  1.944476       -0.263578  ... -1.102301  0.604701 -0.103795\n",
              "2    -0.843726 -0.996920       -0.160249  ... -0.493469 -0.919684 -1.040393\n",
              "3    -1.140579  0.505069       -1.503534  ...  1.409132  5.482732 -0.018650\n",
              "4     0.343683 -0.152051        0.253070  ... -0.810569 -0.817052 -0.274086\n",
              "\n",
              "[5 rows x 8 columns]"
            ]
          },
          "metadata": {
            "tags": []
          },
          "execution_count": 21
        }
      ]
    },
    {
      "cell_type": "code",
      "metadata": {
        "colab": {
          "base_uri": "https://localhost:8080/",
          "height": 283
        },
        "id": "0kW42HelGntl",
        "outputId": "8aab2faf-7c3e-4ef2-f51e-e2df12d3ca49"
      },
      "source": [
        "diabetic = df.loc[label == 1]\n",
        "not_diabetic = df.loc[label == 0]\n",
        "plt.scatter(diabetic.iloc[:, 1], diabetic.iloc[:, 4], s=10, label='Diabetic')\n",
        "plt.scatter(not_diabetic.iloc[:, 1], not_diabetic.iloc[:, 4], s=10, label='Not Diabetic')\n",
        "plt.xlabel(\"glucose\")\n",
        "plt.ylabel(\"insulin\")\n",
        "plt.legend()\n",
        "plt.show()"
      ],
      "execution_count": null,
      "outputs": [
        {
          "output_type": "display_data",
          "data": {
            "image/png": "[encoded data removed]",
            "text/plain": [
              "<Figure size 432x288 with 1 Axes>"
            ]
          },
          "metadata": {
            "tags": [],
            "needs_background": "light"
          }
        }
      ]
    },
    {
      "cell_type": "code",
      "metadata": {
        "id": "zFXKYdsnI-Lo"
      },
      "source": [
        "#splitting the model into training and testing set\n",
        "X_train, X_test, y_train, y_test = train_test_split(df, label, test_size=0.30, random_state=101)"
      ],
      "execution_count": null,
      "outputs": []
    },
    {
      "cell_type": "code",
      "metadata": {
        "colab": {
          "base_uri": "https://localhost:8080/"
        },
        "id": "rJusnED5JDWC",
        "outputId": "e5892b31-57b9-4d58-a650-22ff691494cb"
      },
      "source": [
        "#training a logistics regression model\n",
        "logmodel = LogisticRegression(max_iter=10000)\n",
        "logmodel.fit(X_train,y_train)\n",
        "predictions = logmodel.predict(X_test)\n",
        "print(\"Accuracy = \"+ str(accuracy_score(y_test,predictions)))"
      ],
      "execution_count": null,
      "outputs": [
        {
          "output_type": "stream",
          "text": [
            "Accuracy = 0.7402597402597403\n"
          ],
          "name": "stdout"
        }
      ]
    },
    {
      "cell_type": "code",
      "metadata": {
        "id": "IUrwglcZJhWd"
      },
      "source": [
        "#defining various steps required for the genetic algorithm\n",
        "def initilization_of_population(size,n_feat):\n",
        "    population = []\n",
        "    for i in range(size):\n",
        "        chromosome = np.ones(n_feat,dtype=np.bool)\n",
        "        chromosome[:int(0.3*n_feat)]=False\n",
        "        np.random.shuffle(chromosome)\n",
        "        population.append(chromosome)\n",
        "    return population\n",
        "\n",
        "def fitness_score(population):\n",
        "    scores = []\n",
        "    for chromosome in population:\n",
        "        logmodel.fit(X_train.iloc[:,chromosome],y_train)\n",
        "        predictions = logmodel.predict(X_test.iloc[:,chromosome])\n",
        "        scores.append(accuracy_score(y_test,predictions))\n",
        "    scores, population = np.array(scores), np.array(population) \n",
        "    inds = np.argsort(scores)\n",
        "    return list(scores[inds][::-1]), list(population[inds,:][::-1])\n",
        "\n",
        "def selection(pop_after_fit,n_parents):\n",
        "    population_nextgen = []\n",
        "    for i in range(n_parents):\n",
        "        population_nextgen.append(pop_after_fit[i])\n",
        "    return population_nextgen\n",
        "\n",
        "def crossover(pop_after_sel):\n",
        "    population_nextgen=pop_after_sel\n",
        "    for i in range(len(pop_after_sel)):\n",
        "        child=pop_after_sel[i]\n",
        "        child[3:7]=pop_after_sel[(i+1)%len(pop_after_sel)][3:7]\n",
        "        population_nextgen.append(child)\n",
        "    return population_nextgen\n",
        "\n",
        "def mutation(pop_after_cross,mutation_rate):\n",
        "    population_nextgen = []\n",
        "    for i in range(0,len(pop_after_cross)):\n",
        "        chromosome = pop_after_cross[i]\n",
        "        for j in range(len(chromosome)):\n",
        "            if random.random() < mutation_rate:\n",
        "                chromosome[j]= not chromosome[j]\n",
        "        population_nextgen.append(chromosome)\n",
        "    #print(population_nextgen)\n",
        "    return population_nextgen\n",
        "\n",
        "def generations(size,n_feat,n_parents,mutation_rate,n_gen,X_train,\n",
        "                                   X_test, y_train, y_test):\n",
        "    best_chromo= []\n",
        "    best_score= []\n",
        "    population_nextgen=initilization_of_population(size,n_feat)\n",
        "    for i in range(n_gen):\n",
        "        scores, pop_after_fit = fitness_score(population_nextgen)\n",
        "        print(scores[:2])\n",
        "        pop_after_sel = selection(pop_after_fit,n_parents)\n",
        "        pop_after_cross = crossover(pop_after_sel)\n",
        "        population_nextgen = mutation(pop_after_cross,mutation_rate)\n",
        "        best_chromo.append(pop_after_fit[0])\n",
        "        best_score.append(scores[0])\n",
        "    return best_chromo,best_score"
      ],
      "execution_count": null,
      "outputs": []
    },
    {
      "cell_type": "code",
      "metadata": {
        "colab": {
          "base_uri": "https://localhost:8080/"
        },
        "id": "UArxsCZCJncy",
        "outputId": "683c91bd-4b5b-48bb-9c57-91bdfbb5dd00"
      },
      "source": [
        "chromo,score=generations(size=200,n_feat=8,n_parents=100,mutation_rate=0.10,\n",
        "                     n_gen=20,X_train=X_train,X_test=X_test,y_train=y_train,y_test=y_test)\n",
        "logmodel.fit(X_train.iloc[:,chromo[-1]],y_train)\n",
        "predictions = logmodel.predict(X_test.iloc[:,chromo[-1]])\n",
        "print(\"Accuracy score after genetic algorithm is= \"+str(accuracy_score(y_test,predictions)))"
      ],
      "execution_count": null,
      "outputs": [
        {
          "output_type": "stream",
          "text": [
            "[0.7748917748917749, 0.7748917748917749]\n",
            "[0.7748917748917749, 0.7748917748917749]\n",
            "[0.7748917748917749, 0.7748917748917749]\n",
            "[0.7748917748917749, 0.7748917748917749]\n",
            "[0.7748917748917749, 0.7748917748917749]\n",
            "[0.7748917748917749, 0.7748917748917749]\n",
            "[0.7748917748917749, 0.7748917748917749]\n",
            "[0.7748917748917749, 0.7748917748917749]\n",
            "[0.7748917748917749, 0.7748917748917749]\n",
            "[0.7748917748917749, 0.7748917748917749]\n",
            "[0.7748917748917749, 0.7748917748917749]\n",
            "[0.7705627705627706, 0.7705627705627706]\n",
            "[0.7748917748917749, 0.7748917748917749]\n",
            "[0.7748917748917749, 0.7748917748917749]\n",
            "[0.7748917748917749, 0.7748917748917749]\n",
            "[0.7748917748917749, 0.7748917748917749]\n",
            "[0.7748917748917749, 0.7748917748917749]\n",
            "[0.7748917748917749, 0.7748917748917749]\n",
            "[0.7748917748917749, 0.7748917748917749]\n",
            "[0.7748917748917749, 0.7748917748917749]\n",
            "Accuracy score after genetic algorithm is= 0.7748917748917749\n"
          ],
          "name": "stdout"
        }
      ]
    },
    {
      "cell_type": "code",
      "metadata": {
        "colab": {
          "base_uri": "https://localhost:8080/"
        },
        "id": "4uxerYiKX8pw",
        "outputId": "0eee57ad-34fe-46ff-eae5-64f85b3e7df3"
      },
      "source": [
        "print(chromo[-1])\n",
        "print(score[-1])"
      ],
      "execution_count": null,
      "outputs": [
        {
          "output_type": "stream",
          "text": [
            "[ True  True False  True  True  True False  True]\n",
            "0.7748917748917749\n"
          ],
          "name": "stdout"
        }
      ]
    },
    {
      "cell_type": "code",
      "metadata": {
        "colab": {
          "base_uri": "https://localhost:8080/"
        },
        "id": "c6OU9oMzYkfN",
        "outputId": "46533503-e74e-49b1-9c41-0900a2eb70ac"
      },
      "source": [
        "print(X_train)\n",
        "print(X_train.iloc[:,chromo[-1]])"
      ],
      "execution_count": null,
      "outputs": [
        {
          "output_type": "stream",
          "text": [
            "     pregnancies   glucose  blood pressure  ...       BMI  Diabetes       age\n",
            "710     0.343683  0.160863        0.459729  ... -0.303209 -0.098629  0.577367\n",
            "58     -1.140579 -0.496257       -0.263578  ...  1.206188 -0.901573 -0.955248\n",
            "216     0.640535  0.129572       -0.056919  ... -0.252473 -0.023165 -0.103795\n",
            "168    -0.250022 -0.308508        1.079707  ... -0.455417  0.070411 -0.359231\n",
            "642     0.046831 -0.965629       -3.570128  ... -0.506153  0.417548 -0.188940\n",
            "..           ...       ...             ...  ...       ...       ...       ...\n",
            "75      0.937388 -1.841789        0.459729  ...  0.077311 -0.243521  0.662512\n",
            "599    -0.843726 -0.402383        0.976378  ... -0.620309 -0.216354 -0.784957\n",
            "575     0.640535 -0.402383       -1.296875  ... -1.013513  1.030321  0.151641\n",
            "337     1.531092  0.974441        0.459729  ...  0.280255  1.271808 -0.018650\n",
            "523    -0.250022  0.129572       -0.573567  ... -0.049529 -0.967981 -0.784957\n",
            "\n",
            "[536 rows x 8 columns]\n",
            "     pregnancies   glucose  skin thickness   insulin       BMI       age\n",
            "710     0.343683  0.160863        0.406582 -0.502600 -0.303209  0.577367\n",
            "58     -1.140579 -0.496257        1.284674  0.538995  1.206188 -0.955248\n",
            "216     0.640535  0.129572        0.594744  0.348036 -0.252473 -0.103795\n",
            "168    -0.250022 -0.308508       -0.534231 -0.016522 -0.455417 -0.359231\n",
            "642     0.046831 -0.965629       -1.286882 -0.693559 -0.506153 -0.188940\n",
            "..           ...       ...             ...       ...       ...       ...\n",
            "75      0.937388 -1.841789       -1.286882 -0.693559  0.077311  0.662512\n",
            "599    -0.843726 -0.402383       -0.095185 -0.693559 -0.620309 -0.784957\n",
            "575     0.640535 -0.402383       -0.032464  0.434835 -1.013513  0.151641\n",
            "337     1.531092  0.974441        0.845628  0.790714  0.280255 -0.018650\n",
            "523    -0.250022  0.129572       -1.286882 -0.693559 -0.049529 -0.784957\n",
            "\n",
            "[536 rows x 6 columns]\n"
          ],
          "name": "stdout"
        }
      ]
    },
    {
      "cell_type": "code",
      "metadata": {
        "colab": {
          "base_uri": "https://localhost:8080/",
          "height": 283
        },
        "id": "4zooPg28gtOA",
        "outputId": "312dd640-efdc-4270-b416-cdcb8e5f1664"
      },
      "source": [
        "test_diabetic = X_test.loc[y_test == 1]\n",
        "\n",
        "pred_diabetic = X_test.loc[predictions == 1]\n",
        "\n",
        "plt.scatter(test_diabetic.iloc[:, 1], test_diabetic.iloc[:, 4], s=40, label='Diabetic')\n",
        "plt.scatter(pred_diabetic.iloc[:, 1], pred_diabetic.iloc[:, 4], s=5, label='Predicted Diabetic')\n",
        "plt.xlabel(\"glucose\")\n",
        "plt.ylabel(\"insulin\")\n",
        "plt.legend()\n",
        "plt.show()"
      ],
      "execution_count": null,
      "outputs": [
        {
          "output_type": "display_data",
          "data": {
            "image/png": "[encoded data removed]",
            "text/plain": [
              "<Figure size 432x288 with 1 Axes>"
            ]
          },
          "metadata": {
            "tags": [],
            "needs_background": "light"
          }
        }
      ]
    }
  ]
}